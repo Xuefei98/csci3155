{
 "cells": [
  {
   "cell_type": "code",
   "execution_count": 1,
   "metadata": {
    "deletable": false,
    "editable": false,
    "nbgrader": {
     "checksum": "26c5a416fbe3346a4f31c11e8ce242d8",
     "grade": false,
     "grade_id": "cell-8a6c26fde7f1ca2a",
     "locked": true,
     "schema_version": 1,
     "solution": false
    }
   },
   "outputs": [
    {
     "ename": "<console>",
     "evalue": "89",
     "output_type": "error",
     "text": "<console>:89: error: not found: value $file\n       import $file.hw5stdlib\n              ^\n<console>:90: error: not found: value hw5stdlib\n       import hw5stdlib._\n              ^\n",
     "traceback": [
      "\u001b[1;31m<console>:89: error: not found: value $file\u001b[0;0m",
      "\u001b[1;31m       import $file.hw5stdlib\u001b[0;0m",
      "\u001b[1;31m              ^\u001b[0;0m",
      "\u001b[1;31m<console>:90: error: not found: value hw5stdlib\u001b[0;0m",
      "\u001b[1;31m       import hw5stdlib._\u001b[0;0m",
      "\u001b[1;31m              ^\u001b[0;0m"
     ]
    }
   ],
   "source": [
    "import $file.hw5stdlib\n",
    "import hw5stdlib._"
   ]
  },
  {
   "cell_type": "code",
   "execution_count": 2,
   "metadata": {},
   "outputs": [
    {
     "data": {
      "text/plain": [
       "defined trait Nat\n",
       "defined object Zero\n",
       "defined class Succ\n",
       "one: Succ = Succ(Zero)\n",
       "two: Succ = Succ(Succ(Zero))\n",
       "three: Succ = Succ(Succ(Succ(Zero)))\n",
       "four: Succ = Succ(Succ(Succ(Succ(Zero))))\n",
       "five: Succ = Succ(Succ(Succ(Succ(Succ(Zero)))))\n",
       "six: Succ = Succ(Succ(Succ(Succ(Succ(Succ(Zero))))))\n",
       "seven: Succ = Succ(Succ(Succ(Succ(Succ(Succ(Succ(Zero)))))))\n",
       "eight: Succ = Succ(Succ(Succ(Succ(Succ(Succ(Succ(Succ(Zero))))))))\n",
       "nine: Succ = Succ(Succ(Succ(Succ(Succ(Succ(Succ(Succ(Succ(Zero)))))))))\n",
       "ten: Succ = Succ(Succ(Succ(Succ(Succ(Succ(Succ(Succ(Succ(Succ(Zero))))))))))\n",
       "nat_plus: (x: Nat, y: Nat)Nat\n",
       "nat_to_int: (x: Nat)Int\n",
       "nat_to_str: (x: Nat)String\n",
       "print_nat: (x: Nat)Unit\n",
       "nat_mult: (x: Nat, y: Nat)Nat\n",
       "nat_minus: (x: Nat, y: Nat)Nat\n",
       "nat_pow: (x: Nat, y: Nat)Nat\n",
       "nat_lte: (x: Nat, y: Nat)Bool\n",
       "define..."
      ]
     },
     "execution_count": 2,
     "metadata": {},
     "output_type": "execute_result"
    }
   ],
   "source": [
    "// Nats\n",
    "\n",
    "sealed trait Nat\n",
    "case object Zero extends Nat\n",
    "case class Succ(pred : Nat) extends Nat\n",
    "\n",
    "val one = Succ(Zero)\n",
    "val two = Succ(one)\n",
    "val three = Succ(two)\n",
    "val four = Succ(three)\n",
    "val five = Succ(four)\n",
    "val six = Succ(five)\n",
    "val seven = Succ(six)\n",
    "val eight = Succ(seven)\n",
    "val nine = Succ(eight)\n",
    "val ten = Succ(nine)\n",
    "\n",
    "def nat_plus(x : Nat, y : Nat) : Nat = x match {\n",
    "    case Zero    => y\n",
    "    case Succ(x) => Succ(nat_plus(x, y))\n",
    "}\n",
    "\n",
    "def nat_to_int(x : Nat) : Int = x match {\n",
    "    case Zero => 0\n",
    "    case Succ( x ) => 1 + nat_to_int(x)\n",
    "}\n",
    "\n",
    "def nat_to_str(x : Nat) = nat_to_int(x).toString()\n",
    "\n",
    "def print_nat(x : Nat) = println(nat_to_str(x))\n",
    "\n",
    "def nat_mult(x : Nat, y : Nat) : Nat = x match {\n",
    "    case Zero    => Zero\n",
    "    case Succ(x) => nat_plus(nat_mult(x,y), y)\n",
    "}\n",
    "\n",
    "\n",
    "def nat_minus(x : Nat, y : Nat) : Nat = (x, y) match {\n",
    "    case (Zero, _)          => Zero\n",
    "    case (x, Zero)          => x\n",
    "    case (Succ(x), Succ(y)) => nat_minus(x, y)\n",
    "}\n",
    "\n",
    "def nat_pow(x : Nat, y : Nat) : Nat = x match {\n",
    "    case Zero       => one\n",
    "    case Succ(Zero) => y \n",
    "    case Succ(x)    => nat_mult(y, nat_pow(x, y))\n",
    "}\n",
    "\n",
    "def nat_lte(x : Nat, y : Nat) : Bool = (x, y) match {\n",
    "    case (Zero, y)          => True\n",
    "    case (x, Zero)          => False\n",
    "    case (Succ(x), Succ(y)) => nat_lte(x, y)\n",
    "}\n",
    "\n",
    "// Integers\n",
    "\n",
    "sealed trait Integer\n",
    "case class Positive(x : Nat) extends Integer\n",
    "case class Negative(x : Nat) extends Integer\n",
    "\n",
    "def int_to_str(x : Integer) : String = x match {\n",
    "    case Positive(x) => nat_to_str(x)\n",
    "    case Negative(x) => \"-\" + nat_to_str(x)\n",
    "}\n",
    "\n",
    "def print_integer(x : Integer) = println(int_to_str(x))\n",
    "\n",
    "def abs(x : Integer) : Nat = x match {\n",
    "    case Positive(x) => x\n",
    "    case Negative(x) => x\n",
    "}\n",
    "\n",
    "def negate(x : Integer) : Integer = x match {\n",
    "    case Positive(x) => Negative(x)\n",
    "    case Negative(x) => Positive(x)\n",
    "}\n",
    "\n",
    "def plus(n : Integer, m : Integer) : Integer = (n, m) match {\n",
    "    case (Positive(x), Positive(y)) => Positive(nat_plus(x, y))\n",
    "    case (Negative(x), Negative(y)) => Negative(nat_plus(x,y))\n",
    "    case (Negative(x), Positive(y)) => nat_lte(x, y) match {\n",
    "        case True  => Positive(nat_minus(y, x))\n",
    "        case False => Negative(nat_minus(x, y))\n",
    "    }\n",
    "    case (Positive(x), Negative(y)) => nat_lte(x, y) match {\n",
    "        case True  => Negative(nat_minus(y, x))\n",
    "        case False => Positive(nat_minus(x, y))\n",
    "    }    \n",
    "}\n",
    "\n",
    "def minus(x : Integer, y : Integer) : Integer = plus(x, negate(y))\n",
    "\n",
    "def mult(x : Integer, y : Integer) : Integer = (x,y) match {\n",
    "    case (Positive(x), Positive(y)) => Positive(nat_mult(x, y))   \n",
    "    case (Negative(x), Negative(y)) => Positive(nat_mult(x, y))\n",
    "    case (Negative(x), Positive(y)) => Negative(nat_mult(x, y))\n",
    "    case (Positive(x), Negative(y)) => Negative(nat_mult(x, y))\n",
    "}\n",
    "\n",
    "def pow(x : Integer, y : Nat) : Integer = y match {\n",
    "    case Zero => Positive(Succ(Zero))\n",
    "    case Succ(y) => mult(x, pow(x, y))\n",
    "}\n",
    "\n",
    "// Booleans\n",
    "\n",
    "sealed trait Bool\n",
    "case object True extends Bool\n",
    "case object False extends Bool\n",
    "\n",
    "def t = True\n",
    "def f = False\n",
    "\n",
    "def id(x : Bool) : Bool = x\n",
    "\n",
    "def not(x : Bool) : Bool = x match {\n",
    "    case True => False\n",
    "    case False => True\n",
    "}\n",
    "\n",
    "def and(x : Bool, y : Bool) : Bool = (x,y) match {\n",
    "    case (True, True) => True\n",
    "    case _ => False\n",
    "}\n",
    "\n",
    "def or(x : Bool, y : Bool) : Bool = (x, y) match {\n",
    "    case (False, False) => False\n",
    "    case _              => True\n",
    "}\n",
    "\n",
    "def xor(x : Bool, y : Bool) : Bool = (x, y) match{\n",
    "    case (True, False) => True\n",
    "    case (False, True) => True\n",
    "    case _ => False\n",
    "}\n",
    "\n",
    "def nand(x : Bool, y : Bool) : Bool = not(and(x,y))\n",
    "\n",
    "def lte(x: Nat, y: Nat): Bool = (x, y) match {\n",
    "    case (Zero, _) => True\n",
    "    case (_, Zero) => False\n",
    "    case (Succ(p1), Succ(p2)) => lte(p1, p2)\n",
    "}\n",
    "\n",
    "// Lists\n",
    "\n",
    "sealed trait List[+A]\n",
    "case object Empty extends List[Nothing]\n",
    "case class Cons[A](x : A, xs : List[A]) extends List[A]\n",
    "\n",
    "def length[A](xs : List[A]) : Nat = xs match {\n",
    "    case Empty => Zero\n",
    "    case Cons(_, xs) => Succ(length(xs))\n",
    "}\n",
    "\n",
    "def append[A](xs : List[A], ys : List[A]) : List[A] = xs match {\n",
    "    case Empty => ys\n",
    "    case Cons(x, xs) => Cons(x, append(xs, ys))\n",
    "}\n",
    "\n",
    "def fold[A, B](f : ((A, B) => B), acc : B, xs : List[A]) : B = xs match {\n",
    "    case Empty       => acc\n",
    "    case Cons(x, xs) => fold(f, f(x, acc), xs)\n",
    "}\n",
    "\n",
    "def map[A,B](f : (A => B), xs : List[A]) : List[B] = xs match {\n",
    "    case Empty => Empty\n",
    "    case Cons(x, xs) => Cons(f(x), map(f,xs))\n",
    "}\n",
    "\n",
    "def filter[A](p : (A => Bool), xs : List[A]) : List[A] = xs match {\n",
    "    case Empty       => Empty\n",
    "    case Cons(x, xs) => p(x) match {\n",
    "        case True  => Cons(x, filter(p, xs))\n",
    "        case False => filter(p, xs)\n",
    "    }\n",
    "}\n",
    "\n",
    "def reverse[A](xs : List[A]) : List[A] =\n",
    "    fold(Cons(_: A, _: List[A]), Empty, xs)\n",
    "\n",
    "// Maybe\n",
    "sealed trait Maybe[+A]\n",
    "case object None extends Maybe[Nothing]\n",
    "case class Just[A](x : A) extends Maybe[A]\n",
    "\n",
    "def map_maybe[A,B](f : (A => B), mx : Maybe[A]) : Maybe[B] = mx match {\n",
    "    case None => None\n",
    "    case Just(x) => Just(f(x))\n",
    "}\n",
    "\n",
    "// Products\n",
    "\n",
    "sealed trait Pair[+A, +B]\n",
    "case class MkPair[A, B](fst : A, snd : B) extends Pair[A, B]\n",
    "\n",
    "// Sums\n",
    "\n",
    "sealed trait Either[+A, +B]\n",
    "case class Left[A, B](left : A) extends Either[A, B]\n",
    "case class Right[A, B](right : B) extends Either[A, B]\n",
    "\n",
    "// Strings\n",
    "\n",
    "def string_eq(s1 : String, s2 : String) : Bool = if (s1 == s2) True else False\n",
    "\n",
    "// Equality\n",
    "def bool_eq(x : Bool, y : Bool) : Bool = (x, y) match {\n",
    "    case (True, True) => True\n",
    "    case (False, False) => True\n",
    "    case _ => False\n",
    "}\n",
    "\n",
    "def nat_eq(x : Nat, y : Nat) : Bool = (x, y) match {\n",
    "    case (Zero, Zero)         => True\n",
    "    case (Succ(px), Succ(py)) => nat_eq(px, py)\n",
    "    case _                    => False\n",
    "}\n",
    "\n",
    "def int_eq(x : Integer, y : Integer) : Bool = (x, y) match {\n",
    "    case (Positive(x), Positive(y))       => nat_eq(x, y)\n",
    "    case (Negative(x), Negative(y))       => nat_eq(x, y)\n",
    "    case (Positive(Zero), Negative(Zero)) => True\n",
    "    case (Negative(Zero), Positive(Zero)) => True\n",
    "    case _                                => False\n",
    "}\n",
    "\n",
    "def list_eq[A](l1: List[A], l2: List[A], eq: (A, A) => Bool): Bool =\n",
    "    (l1, l2) match {\n",
    "        case (Empty, Empty) => True\n",
    "        case (Cons(x1, t1), Cons(x2, t2)) => and(eq(x1, x2), list_eq(t1, t2, eq))\n",
    "        case _ => False\n",
    "    }\n",
    "\n",
    "// TEST HELPER\n",
    "def passed(points: Int) {\n",
    "    require(points >=0)\n",
    "    if (points == 1) print(s\"\\n*** Tests Passed (1 point) ***\\n\")\n",
    "    else print(s\"\\n*** Tests Passed ($points points) ***\\n\")\n",
    "}"
   ]
  },
  {
   "cell_type": "markdown",
   "metadata": {
    "deletable": false,
    "editable": false,
    "nbgrader": {
     "checksum": "d15236e9214361bd059d1900b1f97535",
     "grade": false,
     "grade_id": "cell-31b079288d90dc51",
     "locked": true,
     "schema_version": 1,
     "solution": false
    }
   },
   "source": [
    "# Homework 5\n",
    "\n",
    "In this assignment we will develop some helpful structures for building the next interpreter.\n"
   ]
  },
  {
   "cell_type": "markdown",
   "metadata": {
    "deletable": false,
    "editable": false,
    "nbgrader": {
     "checksum": "6041d2f56fe50ff1c25aa0749d72f5c3",
     "grade": false,
     "grade_id": "cell-405b57b28eb4f0f0",
     "locked": true,
     "schema_version": 1,
     "solution": false
    }
   },
   "source": [
    "## Dictionaries\n",
    "\n",
    "We will need to define the datatype $\\texttt{Dictionary}$ before we write the first interpreter for lettuce. We'll begin by giving the definition below:\n",
    "\n",
    "$$\n",
    "\\begin{aligned}\n",
    "\\textbf{Dictionary}\\ A\\ B\\ ::&= \\text{EmptyDict} \\\\\n",
    "&\\mid\\ \\text{Entry}\\ A\\ B\\ (\\textbf{Dictionary}\\ A\\ B)\n",
    "\\end{aligned}\n",
    "$$\n",
    "\n",
    "This will create dictionaries of key-value pairs which will be very useful for implementing contexts in the next homework assignment. The definition of this type in Scala is given below:"
   ]
  },
  {
   "cell_type": "code",
   "execution_count": 3,
   "metadata": {
    "deletable": false,
    "nbgrader": {
     "checksum": "3105b197651d01ef74d17e1090120662",
     "grade": false,
     "grade_id": "cell-c777fe8e435f2d12",
     "locked": false,
     "schema_version": 1,
     "solution": true
    }
   },
   "outputs": [
    {
     "data": {
      "text/plain": [
       "defined trait Dictionary\n",
       "defined object EmptyDict\n",
       "defined class Entry\n"
      ]
     },
     "execution_count": 3,
     "metadata": {},
     "output_type": "execute_result"
    }
   ],
   "source": [
    "sealed trait Dictionary[+A, +B] \n",
    "case object EmptyDict extends Dictionary[Nothing, Nothing]\n",
    "case class Entry[A,B](key : A, value : B, xs : Dictionary[A, B]) extends Dictionary[A, B]"
   ]
  },
  {
   "cell_type": "markdown",
   "metadata": {
    "deletable": false,
    "editable": false,
    "nbgrader": {
     "checksum": "6cfc22cb6202cc8638cddeee5bac3de6",
     "grade": false,
     "grade_id": "cell-ad23f96fb3d4306c",
     "locked": true,
     "schema_version": 1,
     "solution": false
    }
   },
   "source": [
    "For both of the following functions you will need to provide a parameter for an equality-checking function. This is so we can check if keys are equal to eachother"
   ]
  },
  {
   "cell_type": "markdown",
   "metadata": {
    "deletable": false,
    "editable": false,
    "nbgrader": {
     "checksum": "18d825a305a619991239eee3993e3f56",
     "grade": false,
     "grade_id": "cell-66dfe694215bd90c",
     "locked": true,
     "schema_version": 1,
     "solution": false
    }
   },
   "source": [
    "### Membership(In) (5pts)\n",
    "\n",
    "Write a function called `isIn` which returns `True` if the Dictionary contains a given key and `False` if it does not."
   ]
  },
  {
   "cell_type": "code",
   "execution_count": 4,
   "metadata": {
    "deletable": false,
    "nbgrader": {
     "checksum": "f7ca041dbeb6b3db1d8861fd44725757",
     "grade": false,
     "grade_id": "cell-23433950c52a6f5e",
     "locked": false,
     "schema_version": 1,
     "solution": true
    }
   },
   "outputs": [
    {
     "data": {
      "text/plain": [
       "isIn: [A, B](eq: (A, A) => Bool, dict: Dictionary[A,B], y: A)Bool\n"
      ]
     },
     "execution_count": 4,
     "metadata": {},
     "output_type": "execute_result"
    }
   ],
   "source": [
    "def isIn[A,B](eq : ((A,A) => Bool), dict : Dictionary[A,B], y : A ) : Bool = dict match {\n",
    "    case EmptyDict => False\n",
    "    case Entry(x, value, xs) => eq(x, y) match {\n",
    "                               case False => isIn(eq, xs, y)\n",
    "                               case True => True\n",
    "    }\n",
    "}\n"
   ]
  },
  {
   "cell_type": "code",
   "execution_count": 5,
   "metadata": {
    "deletable": false,
    "editable": false,
    "nbgrader": {
     "checksum": "57f28f8df8b6b64825de2570416fabf3",
     "grade": true,
     "grade_id": "cell-4972a9f7ef5db900",
     "locked": true,
     "points": 5,
     "schema_version": 1,
     "solution": false
    }
   },
   "outputs": [
    {
     "name": "stdout",
     "output_type": "stream",
     "text": [
      "\n",
      "*** Tests Passed (5 points) ***\n"
     ]
    }
   ],
   "source": [
    "assert(isIn(nat_eq, Entry(five, True, EmptyDict), five) == True)\n",
    "assert(isIn(nat_eq, Entry(eight, True, Entry(five, True, EmptyDict)), five) == True)\n",
    "assert(isIn(nat_eq, Entry(five, True, EmptyDict), six) == False)\n",
    "assert(isIn(nat_eq, EmptyDict, seven) == False)\n",
    "passed(5)"
   ]
  },
  {
   "cell_type": "markdown",
   "metadata": {
    "deletable": false,
    "editable": false,
    "nbgrader": {
     "checksum": "300a1376511bdfd6ec471956d47c9358",
     "grade": false,
     "grade_id": "cell-9d21f17378934765",
     "locked": true,
     "schema_version": 1,
     "solution": false
    }
   },
   "source": [
    "### Lookup (5 pts)\n",
    "\n",
    "Write a function that retrieves a value that corresponds to a key in a dictionary. If the key is not in the map then return Nothing.\n",
    "\n",
    "$$\n",
    "\\texttt{lookup} : (a \\rightarrow a \\rightarrow \\mathbb{B}) \\rightarrow \\texttt{Dict}\\ a\\ b \\rightarrow a \\rightarrow \\texttt{Maybe}\\ b\n",
    "$$"
   ]
  },
  {
   "cell_type": "code",
   "execution_count": 6,
   "metadata": {
    "deletable": false,
    "nbgrader": {
     "checksum": "a0c3e7ac22e3cf46f534d356a4a8c646",
     "grade": false,
     "grade_id": "cell-2753a17919e5caa9",
     "locked": false,
     "schema_version": 1,
     "solution": true
    }
   },
   "outputs": [
    {
     "data": {
      "text/plain": [
       "lookup: [A, B](eq: (A, A) => Bool, dict: Dictionary[A,B], y: A)Maybe[B]\n"
      ]
     },
     "execution_count": 6,
     "metadata": {},
     "output_type": "execute_result"
    }
   ],
   "source": [
    "def lookup[A,B](eq: (A,A)=>Bool, dict: Dictionary[A,B],y:A): Maybe[B]= dict match{\n",
    "    case EmptyDict =>None\n",
    "    case Entry(x,value,xs)=>eq(x,y) match{\n",
    "                    case True=> Just(value)\n",
    "                    case False=> lookup(eq, xs, y)\n",
    "    }\n",
    "}"
   ]
  },
  {
   "cell_type": "code",
   "execution_count": 7,
   "metadata": {
    "deletable": false,
    "editable": false,
    "nbgrader": {
     "checksum": "f1319b0615cbfe3437fc395b32dad172",
     "grade": true,
     "grade_id": "cell-efcc8fd55430e3cc",
     "locked": true,
     "points": 5,
     "schema_version": 1,
     "solution": false
    }
   },
   "outputs": [
    {
     "name": "stdout",
     "output_type": "stream",
     "text": [
      "\n",
      "*** Tests Passed (5 points) ***\n"
     ]
    }
   ],
   "source": [
    "assert(lookup(nat_eq, Entry(five, \"ham\", EmptyDict), five) == Just(\"ham\"))\n",
    "assert(lookup(nat_eq, Entry(eight, seven, Entry(five, three, EmptyDict)), five) == Just(three))\n",
    "assert(lookup(nat_eq, Entry(five, True, EmptyDict), six) == None)\n",
    "assert(lookup(nat_eq, EmptyDict, seven) == None)\n",
    "passed(5)"
   ]
  },
  {
   "cell_type": "markdown",
   "metadata": {
    "deletable": false,
    "editable": false,
    "nbgrader": {
     "checksum": "b96e2f974d9347a4583b6bfcebe49d7b",
     "grade": false,
     "grade_id": "cell-0bf168c166e56981",
     "locked": true,
     "schema_version": 1,
     "solution": false
    }
   },
   "source": [
    "### Practice using these functions (5 pts)\n",
    "#### Part A\n",
    "Create the following dictionary as a scala value using this definition:\n",
    "```\n",
    "{\n",
    "    five: True,\n",
    "    six: False,\n",
    "    seven: False\n",
    "}\n",
    "```\n",
    "Place it in a variable named \"`ans_3a`\""
   ]
  },
  {
   "cell_type": "code",
   "execution_count": 8,
   "metadata": {
    "deletable": false,
    "nbgrader": {
     "checksum": "d829775e5535404808bc49ec03e6dcbd",
     "grade": false,
     "grade_id": "cell-d081675d6d53a9cc",
     "locked": false,
     "schema_version": 1,
     "solution": true
    }
   },
   "outputs": [
    {
     "data": {
      "text/plain": [
       "Entry(Succ(Succ(Succ(Succ(Succ(Zero))))),True,Entry(Succ(Succ(Succ(Succ(Succ(Succ(Zero)))))),False,Entry(Succ(Succ(Succ(Succ(Succ(Succ(Succ(Zero))))))),False,EmptyDict)))"
      ]
     },
     "execution_count": 8,
     "metadata": {},
     "output_type": "execute_result"
    }
   ],
   "source": [
    "val ans_3a = Entry(five, True, Entry(six, False,Entry(seven,False, EmptyDict)))"
   ]
  },
  {
   "cell_type": "code",
   "execution_count": 9,
   "metadata": {
    "deletable": false,
    "editable": false,
    "nbgrader": {
     "checksum": "c6e502910cbf76810b56a7eda3dd546c",
     "grade": true,
     "grade_id": "cell-14d49877afa79bb3",
     "locked": true,
     "points": 2,
     "schema_version": 1,
     "solution": false
    }
   },
   "outputs": [
    {
     "name": "stdout",
     "output_type": "stream",
     "text": [
      "\n",
      "*** Tests Passed (2 points) ***\n"
     ]
    }
   ],
   "source": [
    "assert(lookup(nat_eq, ans_3a, five) == Just(True))\n",
    "assert(lookup(nat_eq, ans_3a, six) == Just(False))\n",
    "assert(lookup(nat_eq, ans_3a, seven) == Just(False))\n",
    "passed(2)"
   ]
  },
  {
   "cell_type": "markdown",
   "metadata": {
    "deletable": false,
    "editable": false,
    "nbgrader": {
     "checksum": "413a87cde010ce6fa1adc83e4530d89e",
     "grade": false,
     "grade_id": "cell-e2c494340abb6706",
     "locked": true,
     "schema_version": 1,
     "solution": false
    }
   },
   "source": [
    "#### Part B\n",
    "For the following, use the super secret `secret_dict` variable defined below. Use the functions you just defined to complete the following:\n",
    "\n",
    "1. Look up the value mapped by key `Positive(one)` and place it in variable `ans_3b1` \n",
    "2. Look up the value mapped by key `Positive(three)` and place it in variable `ans_3b2`\n",
    "3. Check whether the key `Negative(three)` is in the map and place True or False in variable `ans_3b3`\n",
    "4. Check whether the key `Negative(one)` is in the map and place True or False in variable `ans_3b4`\n",
    "\n",
    "\n",
    "**Note**: For 1 and 2 remember to extract it from the maybe type, set the variable to the string `\"does not exist\"` if you get `None` instead of `Just(x)`."
   ]
  },
  {
   "cell_type": "code",
   "execution_count": 10,
   "metadata": {
    "deletable": false,
    "editable": false,
    "nbgrader": {
     "checksum": "28d7ea94ce35a682bdc252620797949a",
     "grade": false,
     "grade_id": "cell-367a2b37f5710beb",
     "locked": true,
     "schema_version": 1,
     "solution": false
    }
   },
   "outputs": [
    {
     "data": {
      "text/plain": [
       "Entry(Positive(Succ(Succ(Succ(Zero)))),abc,Entry(Negative(Succ(Zero)),xyz,Entry(Positive(Succ(Zero)),MIB,EmptyDict)))"
      ]
     },
     "execution_count": 10,
     "metadata": {},
     "output_type": "execute_result"
    }
   ],
   "source": [
    "val secret_dict = Entry(Positive(three), \"abc\",\n",
    "                        Entry(Negative(one), \"xyz\",\n",
    "                              Entry(Positive(one), \"MIB\", EmptyDict)))"
   ]
  },
  {
   "cell_type": "code",
   "execution_count": 11,
   "metadata": {
    "deletable": false,
    "nbgrader": {
     "checksum": "dab83953838b2c29c3666c8ed44f4399",
     "grade": false,
     "grade_id": "cell-41d83bd054b1372a",
     "locked": false,
     "schema_version": 1,
     "solution": true
    }
   },
   "outputs": [
    {
     "data": {
      "text/plain": [
       "True"
      ]
     },
     "execution_count": 11,
     "metadata": {},
     "output_type": "execute_result"
    }
   ],
   "source": [
    "val ans_3b1=lookup(int_eq,secret_dict,Positive(one))\n",
    "val ans_3b2=lookup(int_eq,secret_dict,Positive(three))\n",
    "val ans_3b3=isIn(int_eq,secret_dict,Negative(three))\n",
    "val ans_3b4=isIn(int_eq,secret_dict,Negative(one))"
   ]
  },
  {
   "cell_type": "code",
   "execution_count": 12,
   "metadata": {
    "deletable": false,
    "editable": false,
    "nbgrader": {
     "checksum": "fbbcb5a04433ff1ef3f714e664962557",
     "grade": true,
     "grade_id": "cell-0ffa542d701f8f36",
     "locked": true,
     "points": 3,
     "schema_version": 1,
     "solution": false
    }
   },
   "outputs": [
    {
     "ename": "input is incomplete",
     "evalue": "input is incomplete",
     "output_type": "error",
     "text": "input is incomplete",
     "traceback": [
      "\u001b[1;31minput is incomplete\u001b[0;0m"
     ]
    }
   ],
   "source": [
    "// Hidden tests (3 pts)"
   ]
  },
  {
   "cell_type": "code",
   "execution_count": null,
   "metadata": {},
   "outputs": [],
   "source": []
  }
 ],
 "metadata": {
  "kernelspec": {
   "display_name": "Scala",
   "language": "scala",
   "name": "scala"
  },
  "language_info": {
   "codemirror_mode": "text/x-scala",
   "file_extension": ".scala",
   "mimetype": "",
   "name": "Scala",
   "nbconverter_exporter": "",
   "version": "2.11.12"
  }
 },
 "nbformat": 4,
 "nbformat_minor": 2
}
